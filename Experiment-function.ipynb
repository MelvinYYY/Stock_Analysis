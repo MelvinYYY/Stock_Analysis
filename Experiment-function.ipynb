{
 "cells": [
  {
   "cell_type": "code",
   "execution_count": 3,
   "metadata": {},
   "outputs": [],
   "source": [
    "# https://plotly.com/~jackp/17421/plotly-candlestick-chart-in-python/#/\n",
    "\n",
    "import pandas_datareader.data as web\n",
    "from datetime import datetime\n",
    "import numpy as np\n",
    "import pandas as pd\n",
    "from multiprocessing import Pool\n",
    "import tqdm\n",
    "import gc\n",
    "import Utils\n",
    "import functions"
   ]
  },
  {
   "cell_type": "code",
   "execution_count": 2,
   "metadata": {},
   "outputs": [
    {
     "data": {
      "text/plain": [
       "5900"
      ]
     },
     "execution_count": 2,
     "metadata": {},
     "output_type": "execute_result"
    }
   ],
   "source": [
    "nasdaq = Utils.get_nasdaq_tickers()\n",
    "len(nasdaq.Symbol)"
   ]
  },
  {
   "cell_type": "code",
   "execution_count": 5,
   "metadata": {
    "code_folding": [
     0
    ]
   },
   "outputs": [],
   "source": [
    "class Stock:\n",
    "    \n",
    "    def __init__(self, symbol, date_from, date_to):\n",
    "        self.symbol = symbol\n",
    "        self.dtf = date_from\n",
    "        self.dtt = date_to\n",
    "        self.all_min_max = []        \n",
    "        \n",
    "    def get_quote(self):\n",
    "        df = web.DataReader(self.symbol, 'yahoo', self.dtf, self.dtt) # This is easier to use\n",
    "        df = df.reset_index(drop = False)\n",
    "        return df\n",
    "    \n",
    "    def get_Min_and_Max(self):\n",
    "        \"\"\" \n",
    "        Return a list of Max/Min/Last Pricing information in a list\n",
    "        \"\"\" \n",
    "        try:\n",
    "            df = self.get_quote()\n",
    "            #df = df.reset_index()\n",
    "            closeMax = df.iloc[df['Close'].idxmax()] \n",
    "            closeMin = df.iloc[df['Close'].idxmin()] \n",
    "            closeCurrent = df.iloc[-1,:]\n",
    "            result = [self.symbol,\n",
    "                     closeMax['Date'].date(), # Date of highest closing price \n",
    "                     closeMax['Close'],       # Max closing price \n",
    "                     closeMin['Date'].date(), # Date of lowest closing price\n",
    "                     closeMin['Close'],       # Min closing Price\n",
    "                     closeCurrent['Date'].date(), # Last Close price\n",
    "                     closeCurrent['Close'],    # Last Close Price\n",
    "                     round((closeMin['Close'] - closeMax['Close'])/closeMax['Close'], 4), # Precent change from high to low\n",
    "                     round((closeCurrent['Close'] - closeMax['Close'])/closeMax['Close'], 4) # Precent change from high to current\n",
    "                    ]\n",
    "\n",
    "            # Remove varible\n",
    "            del df\n",
    "            del closeMax\n",
    "            del closeMin\n",
    "            del closeCurrent\n",
    "            gc.collect()\n",
    "\n",
    "            return result\n",
    "\n",
    "        except: \n",
    "            print('Could not get ' + str(self.symbol) + ' from Yahoo Finance')\n",
    "            \n",
    "    # https://quant.stackexchange.com/questions/11264/calculating-bollinger-band-correctly\n",
    "    def add_Bollinger_Band(self, window_size = 20, num_sd = 2):\n",
    "        \"\"\" \n",
    "        returns a data frame with average, upper band, and lower band\n",
    "        \"\"\"\n",
    "        try:\n",
    "            df = self.get_quote()\n",
    "            df['rolling_mean'] = df['Close'].rolling(window=window_size).mean()\n",
    "            df['rolling_std']  = df['Close'].rolling(window=window_size).std()\n",
    "            df['upper_band'] =  round(df['rolling_mean'] + ( df['rolling_std']*num_sd), 4)\n",
    "            df['lower_band'] =  round(df['rolling_mean'] - ( df['rolling_std']*num_sd),4)\n",
    "            df = df.drop(columns=['rolling_std'])\n",
    "            return df\n",
    "        \n",
    "        except:\n",
    "            print('Could not get ' + str(self.symbol) + ' from Yahoo Finance')\n",
    "    \n",
    "    def BBand_Outliers(self, last_n_days = 3):\n",
    "        \"\"\"\n",
    "        Identify if the price was in or out from the bollinger band \n",
    "        \"\"\"\n",
    "        try:\n",
    "            df = self.add_Bollinger_Band()\n",
    "            subdf = df.iloc[-3:, ].reset_index()\n",
    "\n",
    "            if subdf.loc[:, ['High', 'Low', 'Open', 'Close', 'upper_band']].drop(\n",
    "                    'upper_band', 1).gt(subdf['upper_band'], 0).all(1).any() == True:\n",
    "                indicator = \"Above Upper Band\"\n",
    "\n",
    "            elif subdf.loc[:, ['High', 'Low', 'Open', 'Close', 'upper_band']].drop(\n",
    "                    'upper_band', 1).gt(subdf['upper_band'], 0).any(1).any() == True:\n",
    "                indicator = \"On Upper Band\"\n",
    "\n",
    "            elif subdf.loc[:, ['High', 'Low', 'Open', 'Close', 'lower_band']].drop(\n",
    "                    'lower_band', 1).lt(subdf['lower_band'], 0).all(1).any() == True:\n",
    "                indicator = \"Below Lower Band\"\n",
    "\n",
    "            elif subdf.loc[:, ['High', 'Low', 'Open', 'Close', 'lower_band']].drop(\n",
    "                    'lower_band', 1).lt(subdf['lower_band'], 0).any(1).any() == True:\n",
    "                indicator = \"On Lower Band\"\n",
    "\n",
    "            else: \n",
    "                indicator = \" \"\n",
    "\n",
    "            return [self.symbol, indicator]\n",
    "        \n",
    "        except:\n",
    "            print(\"\")\n",
    "    "
   ]
  },
  {
   "cell_type": "code",
   "execution_count": 4,
   "metadata": {
    "code_folding": [
     0
    ]
   },
   "outputs": [],
   "source": [
    "def All_Min_and_Max(symbol, start = datetime(2020,1,1), end = datetime.now()):\n",
    "    amam = Stock(symbol, start, end )\n",
    "    return amam.get_Min_and_Max()"
   ]
  },
  {
   "cell_type": "code",
   "execution_count": null,
   "metadata": {},
   "outputs": [],
   "source": [
    "results = []"
   ]
  },
  {
   "cell_type": "code",
   "execution_count": null,
   "metadata": {
    "code_folding": [
     0
    ]
   },
   "outputs": [],
   "source": [
    "%%time\n",
    "\n",
    "n_cpu = 4\n",
    "\n",
    "with Pool(processes=n_cpu) as p:\n",
    "    max_ = len(nasdaq.Symbol)\n",
    "    with tqdm.tqdm_notebook(total=max_) as pbar: # May need to change the tqdm_notebook later\n",
    "        for i, r in enumerate(p.imap(All_Min_and_Max, nasdaq.Symbol)):\n",
    "            results.append(r)\n",
    "            pbar.update(1)"
   ]
  },
  {
   "cell_type": "code",
   "execution_count": null,
   "metadata": {},
   "outputs": [],
   "source": [
    "len(results)"
   ]
  },
  {
   "cell_type": "code",
   "execution_count": null,
   "metadata": {},
   "outputs": [],
   "source": [
    "results1 = [l for l in results if l != None]\n"
   ]
  },
  {
   "cell_type": "code",
   "execution_count": null,
   "metadata": {},
   "outputs": [],
   "source": [
    "len(results1)"
   ]
  },
  {
   "cell_type": "code",
   "execution_count": null,
   "metadata": {},
   "outputs": [],
   "source": [
    "results1 = pd.DataFrame(results1)"
   ]
  },
  {
   "cell_type": "code",
   "execution_count": null,
   "metadata": {
    "code_folding": [
     0
    ]
   },
   "outputs": [],
   "source": [
    "results1.columns = ['Symbol', 'MaxPriceDate', 'MaxPrice', 'MinPriceDate', 'MinPrice', \n",
    "                    'LastDate', 'LastPrice', 'PrctHighToLow', 'PrctHightToCurrent']"
   ]
  },
  {
   "cell_type": "code",
   "execution_count": null,
   "metadata": {},
   "outputs": [],
   "source": [
    "results1.head()"
   ]
  },
  {
   "cell_type": "code",
   "execution_count": null,
   "metadata": {},
   "outputs": [],
   "source": [
    "results1.to_csv(\"Analysis0410.csv\", index=False)"
   ]
  },
  {
   "cell_type": "code",
   "execution_count": 6,
   "metadata": {
    "code_folding": [
     0
    ]
   },
   "outputs": [],
   "source": [
    "def All_BBands_Outliers(symbol, start = datetime(2020,3,1), end = datetime.now(), last_n_days = 3):\n",
    "    return Stock(symbol, start, end).BBand_Outliers(last_n_days = last_n_days)\n"
   ]
  },
  {
   "cell_type": "code",
   "execution_count": 7,
   "metadata": {},
   "outputs": [],
   "source": [
    "bbands_outliers=[]"
   ]
  },
  {
   "cell_type": "code",
   "execution_count": null,
   "metadata": {
    "code_folding": []
   },
   "outputs": [],
   "source": [
    "%%time\n",
    "\n",
    "n_cpu = 4\n",
    "\n",
    "with Pool(processes=n_cpu) as p:\n",
    "    max_ = len(nasdaq.Symbol)\n",
    "    with tqdm.tqdm_notebook(total=max_) as pbar: # May need to change the tqdm_notebook later\n",
    "        for i, r in enumerate(p.imap(All_BBands_Outliers, nasdaq.Symbol)):\n",
    "            bbands_outliers.append(r)\n",
    "            pbar.update(1)"
   ]
  },
  {
   "cell_type": "code",
   "execution_count": 9,
   "metadata": {},
   "outputs": [
    {
     "data": {
      "text/plain": [
       "5900"
      ]
     },
     "execution_count": 9,
     "metadata": {},
     "output_type": "execute_result"
    }
   ],
   "source": [
    "len(bbands_outliers)"
   ]
  },
  {
   "cell_type": "code",
   "execution_count": 10,
   "metadata": {},
   "outputs": [],
   "source": [
    "bbands_outliers = [b for b in bbands_outliers if b != None]"
   ]
  },
  {
   "cell_type": "code",
   "execution_count": 12,
   "metadata": {},
   "outputs": [],
   "source": [
    "result2 = pd.DataFrame(bbands_outliers, columns=['Symbol', 'BBIndicator'])"
   ]
  },
  {
   "cell_type": "code",
   "execution_count": 19,
   "metadata": {},
   "outputs": [],
   "source": [
    "result2.to_csv(\"BBIndicator04102020.csv\")"
   ]
  },
  {
   "cell_type": "code",
   "execution_count": 35,
   "metadata": {},
   "outputs": [],
   "source": [
    "def RSI(series, window=14, ewma=True):\n",
    "    \"\"\"\n",
    "    Input: a pandas series of closing price data; window period defaulted as 14 days; default using ewma technique\n",
    "    Function: Calculate RSI \n",
    "    Output, a series of RSI data \n",
    "    \"\"\"\n",
    "    # https://stackoverflow.com/questions/20526414/relative-strength-index-in-python-pandas\n",
    "    # Calculate difference and make the positive gains (up) and negative gains (down) Series\n",
    "    delta = series.diff().dropna(\n",
    "    )  # alternative: delta = series.diff().fillna(0)\n",
    "    up, down = delta.copy(), delta.copy()\n",
    "    up[up < 0] = 0\n",
    "    down[down > 0] = 0\n",
    "\n",
    "    if ewma == True:  # as default\n",
    "        # Calculate the EWMA\n",
    "        roll_up1 = up.ewm(com=window-1).mean()  # Close to Yahoo Finance\n",
    "        roll_down1 = down.abs().ewm(com=window-1).mean()  # Close to Yahoo Finance\n",
    "\n",
    "        # Calculate the RSI based on EWMA\n",
    "        RS1 = roll_up1 / roll_down1\n",
    "        RSI1 = round(100.0 - (100.0 / (1.0 + RS1)), 2)\n",
    "\n",
    "        return RSI1\n",
    "\n",
    "    else:  # Use SMA\n",
    "        # Calculate the SMA\n",
    "        roll_up2 = up.rolling(window_length).mean()\n",
    "        roll_down2 = down.abs().rolling(window_length).mean()\n",
    "\n",
    "        # Calculate the RSI based on SMA\n",
    "        RS2 = roll_up2 / roll_down2\n",
    "        RSI2 = round(100.0 - (100.0 / (1.0 + RS2)), 2)\n",
    "\n",
    "        return RSI2"
   ]
  },
  {
   "cell_type": "code",
   "execution_count": 36,
   "metadata": {},
   "outputs": [],
   "source": [
    "dal = functions.Stock('DAL', start = datetime(2020,1,1), end = datetime.now()).get_hist_data()\n",
    "\n",
    "dal['RSI'] = RSI(dal['Close'])"
   ]
  },
  {
   "cell_type": "code",
   "execution_count": 61,
   "metadata": {},
   "outputs": [],
   "source": [
    "def overbought_oversold(series, last_n_days = 5):\n",
    "    \"\"\"\n",
    "    Input: A pandas series of RSI data; last n days\n",
    "    Function: Identify if the stock is overbrought/ oversold or not\n",
    "    Output: Indicator\n",
    "    \"\"\"\n",
    "    sub = series[-last_n_days:]\n",
    "    \n",
    "    try:\n",
    "        if any(sub <= 20) == True:\n",
    "            indicator = \"Oversold\"\n",
    "\n",
    "        elif all(sub > 20) == True & any(sub <= 30) == True:\n",
    "            indicator = \"Maybe Oversold\"\n",
    "\n",
    "        elif all(sub < 70) == True & any(sub >= 70) == True:\n",
    "            indicator = \"Maybe Overbought\"\n",
    "\n",
    "        if any(sub >= 80) == True:\n",
    "            indicator = \"Overbought\"\n",
    "        \n",
    "        return indicator\n",
    "    \n",
    "    except:\n",
    "        return None\n",
    "        \n",
    "    "
   ]
  },
  {
   "cell_type": "code",
   "execution_count": 62,
   "metadata": {},
   "outputs": [
    {
     "data": {
      "text/plain": [
       "'Maybe Oversold'"
      ]
     },
     "execution_count": 62,
     "metadata": {},
     "output_type": "execute_result"
    }
   ],
   "source": [
    "overbought_oversold(dal['RSI'])"
   ]
  },
  {
   "cell_type": "code",
   "execution_count": 70,
   "metadata": {},
   "outputs": [],
   "source": [
    "def all_RSI_indicators(symbol, start = datetime(2020,1,1), end = datetime.now(), last_n_days = 5):\n",
    "    \"\"\"\n",
    "    Input: symbol, start date, end date, last n days\n",
    "    Function: Work with multiprocessing to calculate RSI indicator for all stock symbol\n",
    "    Output: symbol and indicator\n",
    "    \"\"\"\n",
    "    df =  functions.Stock(symbol,start = start, end = end).get_hist_data()\n",
    "    rsi = RSI(df['Close'])\n",
    "    ind = overbought_oversold(rsi, last_n_days = last_n_days)\n",
    "    return [symbol, ind]"
   ]
  },
  {
   "cell_type": "code",
   "execution_count": 71,
   "metadata": {},
   "outputs": [
    {
     "data": {
      "text/plain": [
       "['EOG', None]"
      ]
     },
     "execution_count": 71,
     "metadata": {},
     "output_type": "execute_result"
    }
   ],
   "source": [
    "all_RSI(\"EOG\")"
   ]
  },
  {
   "cell_type": "code",
   "execution_count": 72,
   "metadata": {},
   "outputs": [
    {
     "data": {
      "text/plain": [
       "['DAL', 'Maybe Oversold']"
      ]
     },
     "execution_count": 72,
     "metadata": {},
     "output_type": "execute_result"
    }
   ],
   "source": [
    "all_RSI(\"DAL\")"
   ]
  },
  {
   "cell_type": "code",
   "execution_count": null,
   "metadata": {},
   "outputs": [],
   "source": []
  }
 ],
 "metadata": {
  "kernelspec": {
   "display_name": "Python 3",
   "language": "python",
   "name": "python3"
  },
  "language_info": {
   "codemirror_mode": {
    "name": "ipython",
    "version": 3
   },
   "file_extension": ".py",
   "mimetype": "text/x-python",
   "name": "python",
   "nbconvert_exporter": "python",
   "pygments_lexer": "ipython3",
   "version": "3.7.3"
  }
 },
 "nbformat": 4,
 "nbformat_minor": 2
}
