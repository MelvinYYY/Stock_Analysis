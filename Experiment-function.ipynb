{
 "cells": [
  {
   "cell_type": "code",
   "execution_count": 1,
   "metadata": {},
   "outputs": [],
   "source": [
    "# https://plotly.com/~jackp/17421/plotly-candlestick-chart-in-python/#/\n",
    "\n",
    "import pandas_datareader.data as web\n",
    "from datetime import datetime\n",
    "import numpy as np\n",
    "import pandas as pd\n",
    "from multiprocessing import Pool\n",
    "import tqdm\n",
    "import gc\n",
    "import Utils"
   ]
  },
  {
   "cell_type": "code",
   "execution_count": 2,
   "metadata": {},
   "outputs": [
    {
     "data": {
      "text/plain": [
       "5900"
      ]
     },
     "execution_count": 2,
     "metadata": {},
     "output_type": "execute_result"
    }
   ],
   "source": [
    "nasdaq = Utils.get_nasdaq_tickers()\n",
    "len(nasdaq.Symbol)"
   ]
  },
  {
   "cell_type": "code",
   "execution_count": 5,
   "metadata": {},
   "outputs": [],
   "source": [
    "class Stock:\n",
    "    \n",
    "    def __init__(self, symbol, date_from, date_to):\n",
    "        self.symbol = symbol\n",
    "        self.dtf = date_from\n",
    "        self.dtt = date_to\n",
    "        self.all_min_max = []        \n",
    "        \n",
    "    def get_quote(self):\n",
    "        df = web.DataReader(self.symbol, 'yahoo', self.dtf, self.dtt) # This is easier to use\n",
    "        df = df.reset_index(drop = False)\n",
    "        return df\n",
    "    \n",
    "    def get_Min_and_Max(self):\n",
    "        \"\"\" \n",
    "        Return a list of Max/Min/Last Pricing information in a list\n",
    "        \"\"\" \n",
    "        try:\n",
    "            df = self.get_quote()\n",
    "            #df = df.reset_index()\n",
    "            closeMax = df.iloc[df['Close'].idxmax()] \n",
    "            closeMin = df.iloc[df['Close'].idxmin()] \n",
    "            closeCurrent = df.iloc[-1,:]\n",
    "            result = [self.symbol,\n",
    "                     closeMax['Date'].date(), # Date of highest closing price \n",
    "                     closeMax['Close'],       # Max closing price \n",
    "                     closeMin['Date'].date(), # Date of lowest closing price\n",
    "                     closeMin['Close'],       # Min closing Price\n",
    "                     closeCurrent['Date'].date(), # Last Close price\n",
    "                     closeCurrent['Close'],    # Last Close Price\n",
    "                     round((closeMin['Close'] - closeMax['Close'])/closeMax['Close'], 4), # Precent change from high to low\n",
    "                     round((closeCurrent['Close'] - closeMax['Close'])/closeMax['Close'], 4) # Precent change from high to current\n",
    "                    ]\n",
    "\n",
    "            # Remove varible\n",
    "            del df\n",
    "            del closeMax\n",
    "            del closeMin\n",
    "            del closeCurrent\n",
    "            gc.collect()\n",
    "\n",
    "            return result\n",
    "\n",
    "        except: \n",
    "            print('Could not get ' + str(self.symbol) + ' from Yahoo Finance')\n",
    "            \n",
    "    # https://quant.stackexchange.com/questions/11264/calculating-bollinger-band-correctly\n",
    "    def add_Bollinger_Band(self, window_size = 20, num_sd = 2):\n",
    "        \"\"\" \n",
    "        returns a data frame with average, upper band, and lower band\n",
    "        \"\"\"\n",
    "        try:\n",
    "            df = self.get_quote()\n",
    "            df['rolling_mean'] = df['Close'].rolling(window=window_size).mean()\n",
    "            df['rolling_std']  = df['Close'].rolling(window=window_size).std()\n",
    "            df['upper_band'] =  round(df['rolling_mean'] + ( df['rolling_std']*num_sd), 4)\n",
    "            df['lower_band'] =  round(df['rolling_mean'] - ( df['rolling_std']*num_sd),4)\n",
    "            df = df.drop(columns=['rolling_std'])\n",
    "            return df\n",
    "        \n",
    "        except:\n",
    "            print('Could not get ' + str(self.symbol) + ' from Yahoo Finance')\n",
    "    \n",
    "    def BBand_Outliers(self, last_n_days = 3):\n",
    "        \"\"\"\n",
    "        Identify if the price was in or out from the bollinger band \n",
    "        \"\"\"\n",
    "        try:\n",
    "            df = self.add_Bollinger_Band()\n",
    "            subdf = df.iloc[-3:, ].reset_index()\n",
    "\n",
    "            if subdf.loc[:, ['High', 'Low', 'Open', 'Close', 'upper_band']].drop(\n",
    "                    'upper_band', 1).gt(subdf['upper_band'], 0).all(1).any() == True:\n",
    "                indicator = \"Above Upper Band\"\n",
    "\n",
    "            elif subdf.loc[:, ['High', 'Low', 'Open', 'Close', 'upper_band']].drop(\n",
    "                    'upper_band', 1).gt(subdf['upper_band'], 0).any(1).any() == True:\n",
    "                indicator = \"On Upper Band\"\n",
    "\n",
    "            elif subdf.loc[:, ['High', 'Low', 'Open', 'Close', 'lower_band']].drop(\n",
    "                    'lower_band', 1).lt(subdf['lower_band'], 0).all(1).any() == True:\n",
    "                indicator = \"Below Lower Band\"\n",
    "\n",
    "            elif subdf.loc[:, ['High', 'Low', 'Open', 'Close', 'lower_band']].drop(\n",
    "                    'lower_band', 1).lt(subdf['lower_band'], 0).any(1).any() == True:\n",
    "                indicator = \"On Lower Band\"\n",
    "\n",
    "            else: \n",
    "                indicator = \" \"\n",
    "\n",
    "            return [self.symbol, indicator]\n",
    "        \n",
    "        except:\n",
    "            print(\"\")\n",
    "    "
   ]
  },
  {
   "cell_type": "code",
   "execution_count": 4,
   "metadata": {},
   "outputs": [],
   "source": [
    "def All_Min_and_Max(symbol, start = datetime(2020,1,1), end = datetime.now()):\n",
    "    amam = Stock(symbol, start, end )\n",
    "    return amam.get_Min_and_Max()"
   ]
  },
  {
   "cell_type": "code",
   "execution_count": null,
   "metadata": {},
   "outputs": [],
   "source": [
    "results = []"
   ]
  },
  {
   "cell_type": "code",
   "execution_count": null,
   "metadata": {},
   "outputs": [],
   "source": [
    "%%time\n",
    "\n",
    "n_cpu = 4\n",
    "\n",
    "with Pool(processes=n_cpu) as p:\n",
    "    max_ = len(nasdaq.Symbol)\n",
    "    with tqdm.tqdm_notebook(total=max_) as pbar: # May need to change the tqdm_notebook later\n",
    "        for i, r in enumerate(p.imap(All_Min_and_Max, nasdaq.Symbol)):\n",
    "            results.append(r)\n",
    "            pbar.update(1)"
   ]
  },
  {
   "cell_type": "code",
   "execution_count": null,
   "metadata": {},
   "outputs": [],
   "source": [
    "len(results)"
   ]
  },
  {
   "cell_type": "code",
   "execution_count": null,
   "metadata": {},
   "outputs": [],
   "source": [
    "results1 = [l for l in results if l != None]\n"
   ]
  },
  {
   "cell_type": "code",
   "execution_count": null,
   "metadata": {},
   "outputs": [],
   "source": [
    "len(results1)"
   ]
  },
  {
   "cell_type": "code",
   "execution_count": null,
   "metadata": {},
   "outputs": [],
   "source": [
    "results1 = pd.DataFrame(results1)"
   ]
  },
  {
   "cell_type": "code",
   "execution_count": null,
   "metadata": {},
   "outputs": [],
   "source": [
    "results1.columns = ['Symbol', 'MaxPriceDate', 'MaxPrice', 'MinPriceDate', 'MinPrice', \n",
    "                    'LastDate', 'LastPrice', 'PrctHighToLow', 'PrctHightToCurrent']"
   ]
  },
  {
   "cell_type": "code",
   "execution_count": null,
   "metadata": {},
   "outputs": [],
   "source": [
    "results1.head()"
   ]
  },
  {
   "cell_type": "code",
   "execution_count": null,
   "metadata": {},
   "outputs": [],
   "source": [
    "results1.to_csv(\"Analysis0410.csv\", index=False)"
   ]
  },
  {
   "cell_type": "code",
   "execution_count": 6,
   "metadata": {},
   "outputs": [],
   "source": [
    "def All_BBands_Outliers(symbol, start = datetime(2020,3,1), end = datetime.now(), last_n_days = 3):\n",
    "    return Stock(symbol, start, end).BBand_Outliers(last_n_days = last_n_days)\n"
   ]
  },
  {
   "cell_type": "code",
   "execution_count": 7,
   "metadata": {},
   "outputs": [],
   "source": [
    "bbands_outliers=[]"
   ]
  },
  {
   "cell_type": "code",
   "execution_count": 8,
   "metadata": {},
   "outputs": [
    {
     "data": {
      "application/vnd.jupyter.widget-view+json": {
       "model_id": "b32b1d67a821412486e7b04dcb044a34",
       "version_major": 2,
       "version_minor": 0
      },
      "text/plain": [
       "HBox(children=(IntProgress(value=0, max=5900), HTML(value='')))"
      ]
     },
     "metadata": {},
     "output_type": "display_data"
    },
    {
     "name": "stdout",
     "output_type": "stream",
     "text": [
      "Could not get ACIA from Yahoo Finance\n",
      "\n",
      "Could not get ALACR from Yahoo Finance\n",
      "\n",
      "Could not get ALGRR from Yahoo Finance\n",
      "\n",
      "Could not get AMK from Yahoo Finance\n",
      "\n",
      "Could not get ANPC from Yahoo Finance\n",
      "\n",
      "Could not get APXTU from Yahoo Finance\n",
      "\n",
      "Could not get BIOC from Yahoo Finance\n",
      "\n",
      "Could not get BMEZ from Yahoo Finance\n",
      "\n",
      "Could not get BORR from Yahoo Finance\n",
      "\n",
      "Could not get CIIC from Yahoo Finance\n",
      "\n",
      "Could not get CNSP from Yahoo Finance\n",
      "\n",
      "Could not get CPAAW from Yahoo Finance\n",
      "\n",
      "Could not get CPS from Yahoo Finance\n",
      "\n",
      "Could not get DEAC from Yahoo Finance\n",
      "\n",
      "Could not get DRTT from Yahoo Finance\n",
      "\n",
      "Could not get DT from Yahoo Finance\n",
      "\n",
      "Could not get EAE from Yahoo Finance\n",
      "\n",
      "Could not get ESSCW from Yahoo Finance\n",
      "\n",
      "Could not get FBC from Yahoo Finance\n",
      "\n",
      "Could not get FCF from Yahoo Finance\n",
      "\n",
      "Could not get FCNCP from Yahoo Finance\n",
      "\n",
      "Could not get FTACW from Yahoo Finance\n",
      "\n",
      "Could not get GMAB from Yahoo Finance\n",
      "\n",
      "Could not get GRTX from Yahoo Finance\n",
      "\n",
      "Could not get GWRS from Yahoo Finance\n",
      "\n",
      "Could not get GXGXW from Yahoo Finance\n",
      "\n",
      "Could not get HCACW from Yahoo Finance\n",
      "\n",
      "Could not get HCCO from Yahoo Finance\n",
      "\n",
      "Could not get HTD from Yahoo Finance\n",
      "\n",
      "Could not get IGMS from Yahoo Finance\n",
      "\n",
      "Could not get IMBI from Yahoo Finance\n",
      "\n",
      "Could not get IPDN from Yahoo Finance\n",
      "\n",
      "Could not get JT from Yahoo Finance\n",
      "\n",
      "Could not get LATN from Yahoo Finance\n",
      "\n",
      "Could not get LC from Yahoo Finance\n",
      "\n",
      "Could not get LNDC from Yahoo Finance\n",
      "\n",
      "Could not get LOVE from Yahoo Finance\n",
      "\n",
      "Could not get LRN from Yahoo Finance\n",
      "\n",
      "Could not get LSACU from Yahoo Finance\n",
      "\n",
      "Could not get MBINO from Yahoo Finance\n",
      "\n",
      "Could not get MBNKP from Yahoo Finance\n",
      "\n",
      "Could not get MDCA from Yahoo Finance\n",
      "\n",
      "Could not get MIRM from Yahoo Finance\n",
      "\n",
      "Could not get MIY from Yahoo Finance\n",
      "\n",
      "Could not get MMX from Yahoo Finance\n",
      "\n",
      "Could not get MNPR from Yahoo Finance\n",
      "\n",
      "Could not get MSG from Yahoo Finance\n",
      "\n",
      "Could not get NJV from Yahoo Finance\n",
      "\n",
      "Could not get PGEN from Yahoo Finance\n",
      "\n",
      "Could not get PINE from Yahoo Finance\n",
      "\n",
      "Could not get PSTVZ from Yahoo Finance\n",
      "\n",
      "Could not get RFM from Yahoo Finance\n",
      "\n",
      "Could not get RILYM from Yahoo Finance\n",
      "\n",
      "Could not get RRD from Yahoo Finance\n",
      "\n",
      "Could not get SAP from Yahoo Finance\n",
      "\n",
      "Could not get SDPI from Yahoo Finance\n",
      "\n",
      "Could not get SEEL from Yahoo Finance\n",
      "\n",
      "Could not get SLRX from Yahoo Finance\n",
      "\n",
      "Could not get SNCA from Yahoo Finance\n",
      "\n",
      "Could not get STX from Yahoo Finance\n",
      "\n",
      "Could not get SUZ from Yahoo Finance\n",
      "\n",
      "Could not get SVA from Yahoo Finance\n",
      "\n",
      "Could not get TBBK from Yahoo Finance\n",
      "\n",
      "Could not get UG from Yahoo Finance\n",
      "\n",
      "Could not get USIO from Yahoo Finance\n",
      "\n",
      "Could not get VIAC from Yahoo Finance\n",
      "\n",
      "Could not get VIACA from Yahoo Finance\n",
      "\n",
      "Could not get VMD from Yahoo Finance\n",
      "\n",
      "Could not get VTGN from Yahoo Finance\n",
      "\n",
      "Could not get WRLSR from Yahoo Finance\n",
      "\n",
      "\n",
      "CPU times: user 3.81 s, sys: 1.42 s, total: 5.23 s\n",
      "Wall time: 18min\n"
     ]
    }
   ],
   "source": [
    "%%time\n",
    "\n",
    "n_cpu = 4\n",
    "\n",
    "with Pool(processes=n_cpu) as p:\n",
    "    max_ = len(nasdaq.Symbol)\n",
    "    with tqdm.tqdm_notebook(total=max_) as pbar: # May need to change the tqdm_notebook later\n",
    "        for i, r in enumerate(p.imap(All_BBands_Outliers, nasdaq.Symbol)):\n",
    "            bbands_outliers.append(r)\n",
    "            pbar.update(1)"
   ]
  },
  {
   "cell_type": "code",
   "execution_count": 9,
   "metadata": {},
   "outputs": [
    {
     "data": {
      "text/plain": [
       "5900"
      ]
     },
     "execution_count": 9,
     "metadata": {},
     "output_type": "execute_result"
    }
   ],
   "source": [
    "len(bbands_outliers)"
   ]
  },
  {
   "cell_type": "code",
   "execution_count": 10,
   "metadata": {},
   "outputs": [],
   "source": [
    "bbands_outliers = [b for b in bbands_outliers if b != None]"
   ]
  },
  {
   "cell_type": "code",
   "execution_count": 12,
   "metadata": {},
   "outputs": [],
   "source": [
    "result2 = pd.DataFrame(bbands_outliers, columns=['Symbol', 'BBIndicator'])"
   ]
  },
  {
   "cell_type": "code",
   "execution_count": 19,
   "metadata": {},
   "outputs": [],
   "source": [
    "result2.to_csv(\"BBIndicator04102020.csv\")"
   ]
  },
  {
   "cell_type": "code",
   "execution_count": null,
   "metadata": {},
   "outputs": [],
   "source": []
  }
 ],
 "metadata": {
  "kernelspec": {
   "display_name": "Python 3",
   "language": "python",
   "name": "python3"
  },
  "language_info": {
   "codemirror_mode": {
    "name": "ipython",
    "version": 3
   },
   "file_extension": ".py",
   "mimetype": "text/x-python",
   "name": "python",
   "nbconvert_exporter": "python",
   "pygments_lexer": "ipython3",
   "version": "3.7.3"
  }
 },
 "nbformat": 4,
 "nbformat_minor": 2
}
