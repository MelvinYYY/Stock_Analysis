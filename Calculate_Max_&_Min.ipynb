{
 "cells": [
  {
   "cell_type": "code",
   "execution_count": 1,
   "metadata": {},
   "outputs": [],
   "source": [
    "# https://plotly.com/~jackp/17421/plotly-candlestick-chart-in-python/#/\n",
    "\n",
    "import pandas_datareader.data as web\n",
    "from datetime import datetime\n",
    "import numpy as np\n",
    "import pandas as pd\n",
    "from multiprocessing import Pool\n",
    "import tqdm\n",
    "import gc\n",
    "import Utils\n",
    "import funtions"
   ]
  },
  {
   "cell_type": "code",
   "execution_count": 2,
   "metadata": {},
   "outputs": [
    {
     "data": {
      "text/plain": [
       "5900"
      ]
     },
     "execution_count": 2,
     "metadata": {},
     "output_type": "execute_result"
    }
   ],
   "source": [
    "nasdaq = Utils.get_nasdaq_tickers()\n",
    "len(nasdaq.Symbol)"
   ]
  },
  {
   "cell_type": "code",
   "execution_count": 3,
   "metadata": {},
   "outputs": [],
   "source": [
    "# Get today's date\n",
    "t = datetime.now().strftime('%m%d%Y')"
   ]
  },
  {
   "cell_type": "code",
   "execution_count": 4,
   "metadata": {
    "code_folding": [
     0
    ]
   },
   "outputs": [],
   "source": [
    "class Stock:\n",
    "    \n",
    "    def __init__(self, symbol, date_from, date_to):\n",
    "        self.symbol = symbol\n",
    "        self.dtf = date_from\n",
    "        self.dtt = date_to\n",
    "        self.all_min_max = []        \n",
    "        \n",
    "    def get_quote(self):\n",
    "        df = web.DataReader(self.symbol, 'yahoo', self.dtf, self.dtt) # This is easier to use\n",
    "        df = df.reset_index(drop = False)\n",
    "        return df\n",
    "    \n",
    "    def get_Min_and_Max(self):\n",
    "        \"\"\" \n",
    "        Return a list of Max/Min/Last Pricing information in a list\n",
    "        \"\"\" \n",
    "        try:\n",
    "            df = self.get_quote()\n",
    "            #df = df.reset_index()\n",
    "            closeMax = df.iloc[df['Close'].idxmax()] \n",
    "            closeMin = df.iloc[df['Close'].idxmin()] \n",
    "            closeCurrent = df.iloc[-1,:]\n",
    "            result = [self.symbol,\n",
    "                     closeMax['Date'].date(), # Date of highest closing price \n",
    "                     closeMax['Close'],       # Max closing price \n",
    "                     closeMin['Date'].date(), # Date of lowest closing price\n",
    "                     closeMin['Close'],       # Min closing Price\n",
    "                     closeCurrent['Date'].date(), # Last Close price\n",
    "                     closeCurrent['Close'],    # Last Close Price\n",
    "                     round((closeMin['Close'] - closeMax['Close'])/closeMax['Close'], 4), # Precent change from high to low\n",
    "                     round((closeCurrent['Close'] - closeMax['Close'])/closeMax['Close'], 4) # Precent change from high to current\n",
    "                    ]\n",
    "\n",
    "            # Remove varible\n",
    "            del df\n",
    "            del closeMax\n",
    "            del closeMin\n",
    "            del closeCurrent\n",
    "            gc.collect()\n",
    "\n",
    "            return result\n",
    "\n",
    "        except: \n",
    "            print('Could not get ' + str(self.symbol) + ' from Yahoo Finance')\n",
    "            \n",
    "    # https://quant.stackexchange.com/questions/11264/calculating-bollinger-band-correctly\n",
    "    def add_Bollinger_Band(self, window_size = 20, num_sd = 2):\n",
    "        \"\"\" \n",
    "        returns a data frame with average, upper band, and lower band\n",
    "        \"\"\"\n",
    "        try:\n",
    "            df = self.get_quote()\n",
    "            df['rolling_mean'] = df['Close'].rolling(window=window_size).mean()\n",
    "            df['rolling_std']  = df['Close'].rolling(window=window_size).std()\n",
    "            df['upper_band'] =  round(df['rolling_mean'] + ( df['rolling_std']*num_sd), 4)\n",
    "            df['lower_band'] =  round(df['rolling_mean'] - ( df['rolling_std']*num_sd),4)\n",
    "            df = df.drop(columns=['rolling_std'])\n",
    "            return df\n",
    "        \n",
    "        except:\n",
    "            print('Could not get ' + str(self.symbol) + ' from Yahoo Finance')\n",
    "    \n",
    "    def BBand_Outliers(self, last_n_days = 3):\n",
    "        \"\"\"\n",
    "        Identify if the price was in or out from the bollinger band \n",
    "        \"\"\"\n",
    "        try:\n",
    "            df = self.add_Bollinger_Band()\n",
    "            subdf = df.iloc[-3:, ].reset_index()\n",
    "\n",
    "            if subdf.loc[:, ['High', 'Low', 'Open', 'Close', 'upper_band']].drop(\n",
    "                    'upper_band', 1).gt(subdf['upper_band'], 0).all(1).any() == True:\n",
    "                indicator = \"Above Upper Band\"\n",
    "\n",
    "            elif subdf.loc[:, ['High', 'Low', 'Open', 'Close', 'upper_band']].drop(\n",
    "                    'upper_band', 1).gt(subdf['upper_band'], 0).any(1).any() == True:\n",
    "                indicator = \"On Upper Band\"\n",
    "\n",
    "            elif subdf.loc[:, ['High', 'Low', 'Open', 'Close', 'lower_band']].drop(\n",
    "                    'lower_band', 1).lt(subdf['lower_band'], 0).all(1).any() == True:\n",
    "                indicator = \"Below Lower Band\"\n",
    "\n",
    "            elif subdf.loc[:, ['High', 'Low', 'Open', 'Close', 'lower_band']].drop(\n",
    "                    'lower_band', 1).lt(subdf['lower_band'], 0).any(1).any() == True:\n",
    "                indicator = \"On Lower Band\"\n",
    "\n",
    "            else: \n",
    "                indicator = \" \"\n",
    "\n",
    "            return [self.symbol, indicator]\n",
    "        \n",
    "        except:\n",
    "            print(\"\")\n",
    "    "
   ]
  },
  {
   "cell_type": "code",
   "execution_count": 5,
   "metadata": {},
   "outputs": [],
   "source": [
    "def All_Min_and_Max(symbol, start = datetime(2020,1,1), end = datetime.now()):\n",
    "    amam = Stock(symbol, start, end )\n",
    "    return amam.get_Min_and_Max()"
   ]
  },
  {
   "cell_type": "code",
   "execution_count": 6,
   "metadata": {},
   "outputs": [],
   "source": [
    "results = []"
   ]
  },
  {
   "cell_type": "code",
   "execution_count": 7,
   "metadata": {},
   "outputs": [
    {
     "data": {
      "application/vnd.jupyter.widget-view+json": {
       "model_id": "99a61dcff68041c8bca88aaa9c924376",
       "version_major": 2,
       "version_minor": 0
      },
      "text/plain": [
       "HBox(children=(IntProgress(value=0, max=50), HTML(value='')))"
      ]
     },
     "metadata": {},
     "output_type": "display_data"
    },
    {
     "name": "stdout",
     "output_type": "stream",
     "text": [
      "\n",
      "CPU times: user 172 ms, sys: 172 ms, total: 344 ms\n",
      "Wall time: 6.36 s\n"
     ]
    }
   ],
   "source": [
    "%%time\n",
    "\n",
    "n_cpu = 4\n",
    "\n",
    "with Pool(processes=n_cpu) as p:\n",
    "    max_ = len(nasdaq.Symbol[0:50])\n",
    "    with tqdm.tqdm_notebook(total=max_) as pbar: # May need to change the tqdm_notebook later\n",
    "        for i, r in enumerate(p.imap(funtions.All_Min_and_Max, nasdaq.Symbol[0:50])): \n",
    "            # Default time frame from 01/02/2020 to now\n",
    "            results.append(r)\n",
    "            pbar.update(1)"
   ]
  },
  {
   "cell_type": "code",
   "execution_count": 8,
   "metadata": {},
   "outputs": [
    {
     "data": {
      "text/plain": [
       "50"
      ]
     },
     "execution_count": 8,
     "metadata": {},
     "output_type": "execute_result"
    }
   ],
   "source": [
    "len(results)"
   ]
  },
  {
   "cell_type": "code",
   "execution_count": 9,
   "metadata": {},
   "outputs": [],
   "source": [
    "results1 = [l for l in results if l != None]\n",
    "\n",
    "results1 = pd.DataFrame(results1,\n",
    "                        columns=[\n",
    "                            'Symbol', 'MaxPriceDate', 'MaxPrice',\n",
    "                            'MinPriceDate', 'MinPrice', 'LastDate',\n",
    "                            'LastPrice', 'PrctHighToLow', 'PrctHightToCurrent'\n",
    "                        ])"
   ]
  },
  {
   "cell_type": "code",
   "execution_count": 11,
   "metadata": {},
   "outputs": [],
   "source": [
    "path = r'~/stock_analysis/Analyses/'\n",
    "filename = \"MinMaxAnalysis\" + t + \".csv\"\n",
    "results1.to_csv(path+filename)"
   ]
  },
  {
   "cell_type": "code",
   "execution_count": null,
   "metadata": {},
   "outputs": [],
   "source": []
  }
 ],
 "metadata": {
  "kernelspec": {
   "display_name": "Python 3",
   "language": "python",
   "name": "python3"
  },
  "language_info": {
   "codemirror_mode": {
    "name": "ipython",
    "version": 3
   },
   "file_extension": ".py",
   "mimetype": "text/x-python",
   "name": "python",
   "nbconvert_exporter": "python",
   "pygments_lexer": "ipython3",
   "version": "3.7.3"
  }
 },
 "nbformat": 4,
 "nbformat_minor": 2
}
