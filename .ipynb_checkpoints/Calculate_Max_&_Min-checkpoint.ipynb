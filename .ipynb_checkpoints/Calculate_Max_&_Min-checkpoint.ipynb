{
 "cells": [
  {
   "cell_type": "code",
   "execution_count": 1,
   "metadata": {},
   "outputs": [],
   "source": [
    "# https://plotly.com/~jackp/17421/plotly-candlestick-chart-in-python/#/\n",
    "\n",
    "import pandas_datareader.data as web\n",
    "from datetime import datetime\n",
    "import numpy as np\n",
    "import pandas as pd\n",
    "from multiprocessing import Pool\n",
    "import tqdm\n",
    "import gc\n",
    "import Utils\n",
    "import funtions"
   ]
  },
  {
   "cell_type": "code",
   "execution_count": 2,
   "metadata": {},
   "outputs": [
    {
     "data": {
      "text/plain": [
       "5900"
      ]
     },
     "execution_count": 2,
     "metadata": {},
     "output_type": "execute_result"
    }
   ],
   "source": [
    "nasdaq = Utils.get_nasdaq_tickers()\n",
    "len(nasdaq.Symbol)"
   ]
  },
  {
   "cell_type": "code",
   "execution_count": 3,
   "metadata": {},
   "outputs": [],
   "source": [
    "# Get today's date\n",
    "t = datetime.now().strftime('%m%d%Y')"
   ]
  },
  {
   "cell_type": "code",
   "execution_count": 4,
   "metadata": {},
   "outputs": [],
   "source": [
    "results = []"
   ]
  },
  {
   "cell_type": "code",
   "execution_count": 5,
   "metadata": {},
   "outputs": [
    {
     "data": {
      "application/vnd.jupyter.widget-view+json": {
       "model_id": "5e2341d80af747a0b382215b062feb4b",
       "version_major": 2,
       "version_minor": 0
      },
      "text/plain": [
       "HBox(children=(IntProgress(value=0), HTML(value='')))"
      ]
     },
     "metadata": {},
     "output_type": "display_data"
    },
    {
     "name": "stdout",
     "output_type": "stream",
     "text": [
      "\n",
      "CPU times: user 188 ms, sys: 312 ms, total: 500 ms\n",
      "Wall time: 11.4 s\n"
     ]
    }
   ],
   "source": [
    "%%time\n",
    "\n",
    "n_cpu = 4\n",
    "\n",
    "with Pool(processes=n_cpu) as p:\n",
    "    max_ = len(nasdaq.Symbol[400:500])\n",
    "    with tqdm.tqdm_notebook(total=max_) as pbar: # May need to change the tqdm_notebook later\n",
    "        for i, r in enumerate(p.imap(funtions.All_Min_and_Max, nasdaq.Symbol[400:500])): \n",
    "            # Default time frame from 01/02/2020 to now\n",
    "            results.append(r)\n",
    "            pbar.update(1)"
   ]
  },
  {
   "cell_type": "code",
   "execution_count": 6,
   "metadata": {},
   "outputs": [
    {
     "data": {
      "text/plain": [
       "100"
      ]
     },
     "execution_count": 6,
     "metadata": {},
     "output_type": "execute_result"
    }
   ],
   "source": [
    "len(results)"
   ]
  },
  {
   "cell_type": "code",
   "execution_count": 7,
   "metadata": {},
   "outputs": [],
   "source": [
    "results1 = [l for l in results if l != None]\n",
    "\n",
    "results1 = pd.DataFrame(results1,\n",
    "                        columns=[\n",
    "                            'Symbol', 'MaxPriceDate', 'MaxPrice',\n",
    "                            'MinPriceDate', 'MinPrice', 'LastDate',\n",
    "                            'LastPrice', 'PrctHighToLow', 'PrctHightToCurrent'\n",
    "                        ])"
   ]
  },
  {
   "cell_type": "code",
   "execution_count": 8,
   "metadata": {},
   "outputs": [],
   "source": [
    "path = r'~/stock_analysis/Analyses/'\n",
    "filename = \"MinMaxAnalysis\" + t + \".csv\"\n",
    "results1.to_csv(path+filename)"
   ]
  },
  {
   "cell_type": "code",
   "execution_count": null,
   "metadata": {},
   "outputs": [],
   "source": []
  }
 ],
 "metadata": {
  "kernelspec": {
   "display_name": "Python 3",
   "language": "python",
   "name": "python3"
  },
  "language_info": {
   "codemirror_mode": {
    "name": "ipython",
    "version": 3
   },
   "file_extension": ".py",
   "mimetype": "text/x-python",
   "name": "python",
   "nbconvert_exporter": "python",
   "pygments_lexer": "ipython3",
   "version": "3.7.3"
  }
 },
 "nbformat": 4,
 "nbformat_minor": 2
}
