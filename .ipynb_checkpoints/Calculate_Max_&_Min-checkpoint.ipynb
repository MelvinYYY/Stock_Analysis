{
 "cells": [
  {
   "cell_type": "code",
   "execution_count": 1,
   "metadata": {},
   "outputs": [],
   "source": [
    "# https://plotly.com/~jackp/17421/plotly-candlestick-chart-in-python/#/\n",
    "\n",
    "import pandas_datareader.data as web\n",
    "from datetime import datetime\n",
    "import numpy as np\n",
    "import pandas as pd\n",
    "from multiprocessing import Pool\n",
    "import tqdm\n",
    "import gc\n",
    "import Utils\n",
    "import funtions"
   ]
  },
  {
   "cell_type": "code",
   "execution_count": 2,
   "metadata": {},
   "outputs": [
    {
     "data": {
      "text/plain": [
       "5900"
      ]
     },
     "execution_count": 2,
     "metadata": {},
     "output_type": "execute_result"
    }
   ],
   "source": [
    "nasdaq = Utils.get_nasdaq_tickers()\n",
    "len(nasdaq.Symbol)"
   ]
  },
  {
   "cell_type": "code",
   "execution_count": 3,
   "metadata": {},
   "outputs": [],
   "source": [
    "# Get today's date\n",
    "t = datetime.now().strftime('%m%d%Y')"
   ]
  },
  {
   "cell_type": "code",
   "execution_count": 4,
   "metadata": {},
   "outputs": [],
   "source": [
    "results = []"
   ]
  },
  {
   "cell_type": "code",
   "execution_count": 5,
   "metadata": {},
   "outputs": [
    {
     "data": {
      "application/vnd.jupyter.widget-view+json": {
       "model_id": "997b32dc71604e6aba50996df9efee48",
       "version_major": 2,
       "version_minor": 0
      },
      "text/plain": [
       "HBox(children=(IntProgress(value=0), HTML(value='')))"
      ]
     },
     "metadata": {},
     "output_type": "display_data"
    },
    {
     "name": "stdout",
     "output_type": "stream",
     "text": [
      "\n",
      "CPU times: user 188 ms, sys: 375 ms, total: 562 ms\n",
      "Wall time: 12.2 s\n"
     ]
    }
   ],
   "source": [
    "%%time\n",
    "\n",
    "n_cpu = 4\n",
    "\n",
    "with Pool(processes=n_cpu) as p:\n",
    "    max_ = len(nasdaq.Symbol[700:800])\n",
    "    with tqdm.tqdm_notebook(total=max_) as pbar: # May need to change the tqdm_notebook later\n",
    "        for i, r in enumerate(p.imap(funtions.All_Min_and_Max, nasdaq.Symbol[700:800])): \n",
    "            # Default time frame from 01/02/2020 to now\n",
    "            results.append(r)\n",
    "            pbar.update(1)"
   ]
  },
  {
   "cell_type": "code",
   "execution_count": 6,
   "metadata": {},
   "outputs": [
    {
     "data": {
      "text/plain": [
       "100"
      ]
     },
     "execution_count": 6,
     "metadata": {},
     "output_type": "execute_result"
    }
   ],
   "source": [
    "len(results)"
   ]
  },
  {
   "cell_type": "code",
   "execution_count": 7,
   "metadata": {},
   "outputs": [],
   "source": [
    "results1 = [l for l in results if l != None]\n",
    "\n",
    "results1 = pd.DataFrame(results1,\n",
    "                        columns=[\n",
    "                            'Symbol', 'MaxPriceDate', 'MaxPrice',\n",
    "                            'MinPriceDate', 'MinPrice', 'LastDate',\n",
    "                            'LastPrice', 'PrctHighToLow', 'PrctHightToCurrent'\n",
    "                        ])"
   ]
  },
  {
   "cell_type": "code",
   "execution_count": 8,
   "metadata": {},
   "outputs": [],
   "source": [
    "path = r'~/stock_analysis/Analyses/'\n",
    "filename = \"MinMaxAnalysis\" + t + \".csv\"\n",
    "results1.to_csv(path+filename)"
   ]
  },
  {
   "cell_type": "code",
   "execution_count": 9,
   "metadata": {},
   "outputs": [
    {
     "data": {
      "text/html": [
       "<div>\n",
       "<style scoped>\n",
       "    .dataframe tbody tr th:only-of-type {\n",
       "        vertical-align: middle;\n",
       "    }\n",
       "\n",
       "    .dataframe tbody tr th {\n",
       "        vertical-align: top;\n",
       "    }\n",
       "\n",
       "    .dataframe thead th {\n",
       "        text-align: right;\n",
       "    }\n",
       "</style>\n",
       "<table border=\"1\" class=\"dataframe\">\n",
       "  <thead>\n",
       "    <tr style=\"text-align: right;\">\n",
       "      <th></th>\n",
       "      <th>Symbol</th>\n",
       "      <th>MaxPriceDate</th>\n",
       "      <th>MaxPrice</th>\n",
       "      <th>MinPriceDate</th>\n",
       "      <th>MinPrice</th>\n",
       "      <th>LastDate</th>\n",
       "      <th>LastPrice</th>\n",
       "      <th>PrctHighToLow</th>\n",
       "      <th>PrctHightToCurrent</th>\n",
       "    </tr>\n",
       "  </thead>\n",
       "  <tbody>\n",
       "    <tr>\n",
       "      <th>0</th>\n",
       "      <td>BKI</td>\n",
       "      <td>2020-02-19</td>\n",
       "      <td>76.099998</td>\n",
       "      <td>2020-03-20</td>\n",
       "      <td>52.009998</td>\n",
       "      <td>2020-04-09</td>\n",
       "      <td>63.480000</td>\n",
       "      <td>-0.3166</td>\n",
       "      <td>-0.1658</td>\n",
       "    </tr>\n",
       "    <tr>\n",
       "      <th>1</th>\n",
       "      <td>BKK</td>\n",
       "      <td>2020-03-03</td>\n",
       "      <td>15.030000</td>\n",
       "      <td>2020-03-18</td>\n",
       "      <td>14.040000</td>\n",
       "      <td>2020-04-09</td>\n",
       "      <td>14.810000</td>\n",
       "      <td>-0.0659</td>\n",
       "      <td>-0.0146</td>\n",
       "    </tr>\n",
       "    <tr>\n",
       "      <th>2</th>\n",
       "      <td>BKN</td>\n",
       "      <td>2020-02-25</td>\n",
       "      <td>16.150000</td>\n",
       "      <td>2020-03-18</td>\n",
       "      <td>11.680000</td>\n",
       "      <td>2020-04-09</td>\n",
       "      <td>14.850000</td>\n",
       "      <td>-0.2768</td>\n",
       "      <td>-0.0805</td>\n",
       "    </tr>\n",
       "    <tr>\n",
       "      <th>3</th>\n",
       "      <td>BKNG</td>\n",
       "      <td>2020-01-10</td>\n",
       "      <td>2086.899902</td>\n",
       "      <td>2020-03-23</td>\n",
       "      <td>1152.239990</td>\n",
       "      <td>2020-04-09</td>\n",
       "      <td>1420.640015</td>\n",
       "      <td>-0.4479</td>\n",
       "      <td>-0.3193</td>\n",
       "    </tr>\n",
       "    <tr>\n",
       "      <th>4</th>\n",
       "      <td>BKR</td>\n",
       "      <td>2020-01-03</td>\n",
       "      <td>25.639999</td>\n",
       "      <td>2020-03-23</td>\n",
       "      <td>9.330000</td>\n",
       "      <td>2020-04-09</td>\n",
       "      <td>12.860000</td>\n",
       "      <td>-0.6361</td>\n",
       "      <td>-0.4984</td>\n",
       "    </tr>\n",
       "  </tbody>\n",
       "</table>\n",
       "</div>"
      ],
      "text/plain": [
       "  Symbol MaxPriceDate     MaxPrice MinPriceDate     MinPrice    LastDate  \\\n",
       "0    BKI   2020-02-19    76.099998   2020-03-20    52.009998  2020-04-09   \n",
       "1    BKK   2020-03-03    15.030000   2020-03-18    14.040000  2020-04-09   \n",
       "2    BKN   2020-02-25    16.150000   2020-03-18    11.680000  2020-04-09   \n",
       "3   BKNG   2020-01-10  2086.899902   2020-03-23  1152.239990  2020-04-09   \n",
       "4    BKR   2020-01-03    25.639999   2020-03-23     9.330000  2020-04-09   \n",
       "\n",
       "     LastPrice  PrctHighToLow  PrctHightToCurrent  \n",
       "0    63.480000        -0.3166             -0.1658  \n",
       "1    14.810000        -0.0659             -0.0146  \n",
       "2    14.850000        -0.2768             -0.0805  \n",
       "3  1420.640015        -0.4479             -0.3193  \n",
       "4    12.860000        -0.6361             -0.4984  "
      ]
     },
     "execution_count": 9,
     "metadata": {},
     "output_type": "execute_result"
    }
   ],
   "source": [
    "results1.head()"
   ]
  },
  {
   "cell_type": "code",
   "execution_count": null,
   "metadata": {},
   "outputs": [],
   "source": []
  }
 ],
 "metadata": {
  "kernelspec": {
   "display_name": "Python 3",
   "language": "python",
   "name": "python3"
  },
  "language_info": {
   "codemirror_mode": {
    "name": "ipython",
    "version": 3
   },
   "file_extension": ".py",
   "mimetype": "text/x-python",
   "name": "python",
   "nbconvert_exporter": "python",
   "pygments_lexer": "ipython3",
   "version": "3.7.3"
  }
 },
 "nbformat": 4,
 "nbformat_minor": 2
}
