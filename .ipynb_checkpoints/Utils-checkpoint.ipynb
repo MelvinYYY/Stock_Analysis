{
 "cells": [
  {
   "cell_type": "code",
   "execution_count": 18,
   "metadata": {},
   "outputs": [],
   "source": [
    "# Reading Ftp file\n",
    "import shutil\n",
    "import urllib.request as request\n",
    "from contextlib import closing\n",
    "\n",
    "from datetime import date, datetime, timedelta\n",
    "import pandas as pd"
   ]
  },
  {
   "cell_type": "code",
   "execution_count": 113,
   "metadata": {},
   "outputs": [],
   "source": [
    "def get_nasdaq_tickers():\n",
    "    '''\n",
    "    Get the list from the ftp, which updates every business day\n",
    "    Return: a pandas dataframe ticker list \n",
    "    '''\n",
    "    # Download the nasdaq tickers list\n",
    "    with closing(\n",
    "            request.urlopen(\n",
    "                'ftp://ftp.nasdaqtrader.com/SymbolDirectory/nasdaqtraded.txt')\n",
    "    ) as r:\n",
    "        with open('nasdaq_tickers.txt', 'wb') as f:\n",
    "            shutil.copyfileobj(r, f)\n",
    "\n",
    "    # read with pandas\n",
    "    nasdaq_tickers = pd.read_csv('nasdaq_tickers.txt', sep='|', header=0)\n",
    "\n",
    "    # remove the footage\n",
    "    nasdaq_tickers = nasdaq_tickers[:-1]\n",
    "    # Apply filters\n",
    "    nasdaq_tickers = nasdaq_tickers[\n",
    "        (nasdaq_tickers['Nasdaq Traded'] != 'N') & # This is the BRK.A. Don't have enough money to buy anyway...\n",
    "        (nasdaq_tickers['Test Issue'] != 'Y') & \n",
    "        (nasdaq_tickers['ETF'] != 'Y') &   # Not interested in ETF \n",
    "        (~nasdaq_tickers['Security Name'].str.contains('ETN')) & # Not Interested in ETN as well \n",
    "        (~nasdaq_tickers['Security Name'].str.contains('Preferred Share')) &\n",
    "        (~nasdaq_tickers['Security Name'].str.contains('Preferred Series')) &\n",
    "        (~nasdaq_tickers['Security Name'].str.contains('Warrants'))\n",
    "    ]\n",
    "\n",
    "    nasdaq_tickers = nasdaq_tickers.reset_index(drop=True)  # reset index\n",
    "\n",
    "    return nasdaq_tickers.iloc[:, 1:3]"
   ]
  },
  {
   "cell_type": "code",
   "execution_count": 114,
   "metadata": {},
   "outputs": [],
   "source": [
    "nasdaq_tickers = get_nasdaq_tickers()"
   ]
  },
  {
   "cell_type": "code",
   "execution_count": 129,
   "metadata": {},
   "outputs": [],
   "source": [
    "def get_other_tickers():\n",
    "    '''\n",
    "    Get the list from the ftp, which updates every business day\n",
    "    Return: a pandas dataframe ticker list \n",
    "    '''\n",
    "    # Download the nyse and other tickers list\n",
    "    with closing(\n",
    "            request.urlopen(\n",
    "                'ftp://ftp.nasdaqtrader.com/SymbolDirectory/otherlisted.txt')\n",
    "    ) as r:\n",
    "        with open('other_tickers.txt', 'wb') as f:\n",
    "            shutil.copyfileobj(r, f)\n",
    "\n",
    "    # read with pandas\n",
    "    nyse_tickers = pd.read_csv('other_tickers.txt', sep='|', header=0)\n",
    "\n",
    "    # remove the footage\n",
    "    nyse_tickers = nyse_tickers[:-1]\n",
    "    # Apply filters\n",
    "    nyse_tickers = nyse_tickers[\n",
    "        \n",
    "        (nyse_tickers['Test Issue'] != 'Y') & (nyse_tickers['ETF'] != 'Y')\n",
    "        &  # Not interested in ETF \n",
    "        (~nyse_tickers['Security Name'].str.contains('ETN'))\n",
    "        &  # Not Interested in ETN as well \n",
    "        (~nyse_tickers['Security Name'].str.contains('Preferred Share')) &\n",
    "        (~nyse_tickers['Security Name'].str.contains('Preferred Series')) &\n",
    "        (~nyse_tickers['Security Name'].str.contains('Warrants'))]\n",
    "\n",
    "    nyse_tickers = nyse_tickers.reset_index(drop=True)  # reset index\n",
    "\n",
    "    return nyse_tickers.iloc[:,0:2]"
   ]
  },
  {
   "cell_type": "code",
   "execution_count": 130,
   "metadata": {},
   "outputs": [],
   "source": [
    "nyse_tickers = get_other_tickers()"
   ]
  },
  {
   "cell_type": "code",
   "execution_count": null,
   "metadata": {},
   "outputs": [],
   "source": []
  }
 ],
 "metadata": {
  "kernelspec": {
   "display_name": "Python 3",
   "language": "python",
   "name": "python3"
  },
  "language_info": {
   "codemirror_mode": {
    "name": "ipython",
    "version": 3
   },
   "file_extension": ".py",
   "mimetype": "text/x-python",
   "name": "python",
   "nbconvert_exporter": "python",
   "pygments_lexer": "ipython3",
   "version": "3.7.3"
  }
 },
 "nbformat": 4,
 "nbformat_minor": 2
}
