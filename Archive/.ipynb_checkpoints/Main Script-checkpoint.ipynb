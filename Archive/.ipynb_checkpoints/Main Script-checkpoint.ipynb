{
 "cells": [
  {
   "cell_type": "code",
   "execution_count": 1,
   "metadata": {},
   "outputs": [],
   "source": [
    "#https://stackoverflow.com/questions/44225771/scraping-historical-data-from-yahoo-finance-with-python\n",
    "import re\n",
    "import gc\n",
    "from io import StringIO\n",
    "from datetime import datetime, timedelta\n",
    "import requests\n",
    "import pandas as pd\n",
    "import matplotlib.pyplot as plt\n",
    "from matplotlib.finance import candlestick_ohlc"
   ]
  },
  {
   "cell_type": "code",
   "execution_count": 29,
   "metadata": {},
   "outputs": [],
   "source": [
    "# Define function to get historical stock data from Yahoo finance\n",
    "class YahooFinanceHistory:\n",
    "    timeout = 2\n",
    "    crumb_link = 'https://finance.yahoo.com/quote/{0}/history?p={0}'\n",
    "    crumble_regex = r'CrumbStore\":{\"crumb\":\"(.*?)\"}'\n",
    "    quote_link = 'https://query1.finance.yahoo.com/v7/finance/download/{quote}?period1={dfrom}&period2={dto}&interval=1d&events=history&crumb={crumb}'\n",
    "\n",
    "    def __init__(self, symbol, date_from):\n",
    "        self.symbol = symbol\n",
    "        self.session = requests.Session()\n",
    "        #self.dt = timedelta(days=days_back)\n",
    "        self.dt = datetime.strptime(\n",
    "            date_from, '%m/%d/%Y'\n",
    "        )  # New. Only interest in data started from the begining of 2020\n",
    "\n",
    "    def get_crumb(self):\n",
    "        response = self.session.get(self.crumb_link.format(self.symbol),\n",
    "                                    timeout=self.timeout)\n",
    "        response.raise_for_status()\n",
    "        match = re.search(self.crumble_regex, response.text)\n",
    "        if not match:\n",
    "            raise ValueError('Could not get' + str(self.symbol) +\n",
    "                             'from Yahoo Finance')\n",
    "        else:\n",
    "            self.crumb = match.group(1)\n",
    "\n",
    "    def get_quote(self):\n",
    "        if not hasattr(self, 'crumb') or len(self.session.cookies) == 0:\n",
    "            self.get_crumb()\n",
    "        now = datetime.utcnow()\n",
    "        dateto = int(now.timestamp())\n",
    "        # datefrom = int((now - self.dt).timestamp()) -- original\n",
    "        datefrom = int(self.dt.timestamp())  # New\n",
    "        url = self.quote_link.format(quote=self.symbol,\n",
    "                                     dfrom=datefrom,\n",
    "                                     dto=dateto,\n",
    "                                     crumb=self.crumb)\n",
    "        response = self.session.get(url)\n",
    "        response.raise_for_status()\n",
    "        return pd.read_csv(StringIO(response.text), parse_dates=['Date'])\n",
    "    \n",
    "    def get_Min_and_Max(self):\n",
    "        \"\"\" \n",
    "        Return a list of Max/Min/Last Pricing information in a list\n",
    "        \"\"\" \n",
    "        try:\n",
    "            df = self.get_quote()\n",
    "            closeMax = df.iloc[df['Close'].idxmax()] \n",
    "            closeMin = df.iloc[df['Close'].idxmin()] \n",
    "            closeCurrent = df.iloc[-1,:]\n",
    "            result = [self.symbol,\n",
    "                     closeMax['Date'].date(), # Date of highest closing price \n",
    "                     closeMax['Close'],       # Max closing price \n",
    "                     closeMin['Date'].date(), # Date of lowest closing price\n",
    "                     closeMin['Close'],       # Min closing Price\n",
    "                     closeCurrent['Date'].date(), # Last Close price\n",
    "                     closeCurrent['Close'],    # Last Close Price\n",
    "                     round((closeMin['Close'] - closeMax['Close'])/closeMax['Close'], 4), # Precent change from high to low\n",
    "                     round((closeCurrent['Close'] - closeMax['Close'])/closeMax['Close'], 4) # Precent change from high to current\n",
    "                    ]\n",
    "\n",
    "            # Remove varible\n",
    "            del df\n",
    "            del closeMax\n",
    "            del closeMin\n",
    "            del closeCurrent\n",
    "            gc.collect()\n",
    "\n",
    "            return result\n",
    "\n",
    "        except: \n",
    "            print('Could not get ' + str(symbol) + ' from Yahoo Finance')"
   ]
  },
  {
   "cell_type": "code",
   "execution_count": 34,
   "metadata": {},
   "outputs": [],
   "source": [
    "zlab = YahooFinanceHistory('ZLAB', '01/01/2016').get_quote()"
   ]
  },
  {
   "cell_type": "code",
   "execution_count": 35,
   "metadata": {},
   "outputs": [
    {
     "data": {
      "text/html": [
       "<div>\n",
       "<style scoped>\n",
       "    .dataframe tbody tr th:only-of-type {\n",
       "        vertical-align: middle;\n",
       "    }\n",
       "\n",
       "    .dataframe tbody tr th {\n",
       "        vertical-align: top;\n",
       "    }\n",
       "\n",
       "    .dataframe thead th {\n",
       "        text-align: right;\n",
       "    }\n",
       "</style>\n",
       "<table border=\"1\" class=\"dataframe\">\n",
       "  <thead>\n",
       "    <tr style=\"text-align: right;\">\n",
       "      <th></th>\n",
       "      <th>Date</th>\n",
       "      <th>Open</th>\n",
       "      <th>High</th>\n",
       "      <th>Low</th>\n",
       "      <th>Close</th>\n",
       "      <th>Adj Close</th>\n",
       "      <th>Volume</th>\n",
       "    </tr>\n",
       "  </thead>\n",
       "  <tbody>\n",
       "    <tr>\n",
       "      <th>0</th>\n",
       "      <td>2017-09-20</td>\n",
       "      <td>24.250000</td>\n",
       "      <td>30.000000</td>\n",
       "      <td>23.799999</td>\n",
       "      <td>27.930000</td>\n",
       "      <td>27.930000</td>\n",
       "      <td>5031500</td>\n",
       "    </tr>\n",
       "    <tr>\n",
       "      <th>1</th>\n",
       "      <td>2017-09-21</td>\n",
       "      <td>28.180000</td>\n",
       "      <td>32.639999</td>\n",
       "      <td>28.000000</td>\n",
       "      <td>31.110001</td>\n",
       "      <td>31.110001</td>\n",
       "      <td>1334900</td>\n",
       "    </tr>\n",
       "    <tr>\n",
       "      <th>2</th>\n",
       "      <td>2017-09-22</td>\n",
       "      <td>31.190001</td>\n",
       "      <td>31.190001</td>\n",
       "      <td>27.100000</td>\n",
       "      <td>27.730000</td>\n",
       "      <td>27.730000</td>\n",
       "      <td>759500</td>\n",
       "    </tr>\n",
       "    <tr>\n",
       "      <th>3</th>\n",
       "      <td>2017-09-25</td>\n",
       "      <td>27.610001</td>\n",
       "      <td>27.855000</td>\n",
       "      <td>26.620001</td>\n",
       "      <td>27.010000</td>\n",
       "      <td>27.010000</td>\n",
       "      <td>365000</td>\n",
       "    </tr>\n",
       "    <tr>\n",
       "      <th>4</th>\n",
       "      <td>2017-09-26</td>\n",
       "      <td>27.209999</td>\n",
       "      <td>28.799999</td>\n",
       "      <td>26.730000</td>\n",
       "      <td>27.690001</td>\n",
       "      <td>27.690001</td>\n",
       "      <td>394500</td>\n",
       "    </tr>\n",
       "  </tbody>\n",
       "</table>\n",
       "</div>"
      ],
      "text/plain": [
       "        Date       Open       High        Low      Close  Adj Close   Volume\n",
       "0 2017-09-20  24.250000  30.000000  23.799999  27.930000  27.930000  5031500\n",
       "1 2017-09-21  28.180000  32.639999  28.000000  31.110001  31.110001  1334900\n",
       "2 2017-09-22  31.190001  31.190001  27.100000  27.730000  27.730000   759500\n",
       "3 2017-09-25  27.610001  27.855000  26.620001  27.010000  27.010000   365000\n",
       "4 2017-09-26  27.209999  28.799999  26.730000  27.690001  27.690001   394500"
      ]
     },
     "execution_count": 35,
     "metadata": {},
     "output_type": "execute_result"
    }
   ],
   "source": [
    "zlab.head()"
   ]
  },
  {
   "cell_type": "code",
   "execution_count": 24,
   "metadata": {},
   "outputs": [],
   "source": [
    "# Define function \n",
    "def get_Min_and_Max(symbol, date_from):\n",
    "    \"\"\" \n",
    "    Return a list of Max/Min/Last Pricing information in a list\n",
    "    \"\"\" \n",
    "    try:\n",
    "        df = YahooFinanceHistory(symbol, date_from).get_quote()\n",
    "        closeMax = df.iloc[df['Close'].idxmax()] \n",
    "        closeMin = df.iloc[df['Close'].idxmin()] \n",
    "        closeCurrent = df.iloc[-1,:]\n",
    "        result = [symbol,\n",
    "                 closeMax['Date'].date(), # Date of highest closing price \n",
    "                 closeMax['Close'],       # Max closing price \n",
    "                 closeMin['Date'].date(), # Date of lowest closing price\n",
    "                 closeMin['Close'],       # Min closing Price\n",
    "                 closeCurrent['Date'].date(), # Last Close price\n",
    "                 closeCurrent['Close'],    # Last Close Price\n",
    "                 round((closeMin['Close'] - closeMax['Close'])/closeMax['Close'], 4), # Precent change from high to low\n",
    "                 round((closeCurrent['Close'] - closeMax['Close'])/closeMax['Close'], 4) # Precent change from high to current\n",
    "                ]\n",
    "        \n",
    "        # Remove varible\n",
    "        del df\n",
    "        del closeMax\n",
    "        del closeMin\n",
    "        del closeCurrent\n",
    "        gc.collect()\n",
    "        \n",
    "        return result\n",
    "    \n",
    "        \n",
    "                                                                    \n",
    "    except: \n",
    "        print('Could not get ' + str(symbol) + ' from Yahoo Finance')\n"
   ]
  },
  {
   "cell_type": "code",
   "execution_count": 30,
   "metadata": {},
   "outputs": [
    {
     "data": {
      "text/plain": [
       "['ZLAB',\n",
       " datetime.date(2020, 2, 19),\n",
       " 62.900002,\n",
       " datetime.date(2020, 1, 6),\n",
       " 39.099998,\n",
       " datetime.date(2020, 3, 27),\n",
       " 50.959998999999996,\n",
       " -0.3784,\n",
       " -0.1898]"
      ]
     },
     "execution_count": 30,
     "metadata": {},
     "output_type": "execute_result"
    }
   ],
   "source": [
    "YahooFinanceHistory('ZLAB', '01/01/2020').get_Min_and_Max()"
   ]
  },
  {
   "cell_type": "code",
   "execution_count": 64,
   "metadata": {},
   "outputs": [],
   "source": [
    "# https://quant.stackexchange.com/questions/11264/calculating-bollinger-band-correctly\n",
    "def add_Bollinger_Band(df, window_size = 20, num_sd = 2):\n",
    "    \"\"\" \n",
    "    returns average, upper band, and lower band\n",
    "    \"\"\"\n",
    "    df['Date'] = pd.to_datetime(df['Date'])\n",
    "    df['rolling_mean'] = df['Close'].rolling(window=window_size).mean()\n",
    "    df['rolling_std']  = df['Close'].rolling(window=window_size).std()\n",
    "    df['upper_band'] =  round(df['rolling_mean'] + ( df['rolling_std']*num_sd), 4)\n",
    "    df['lower_band'] =  round(df['rolling_mean'] - ( df['rolling_std']*num_sd),4)\n",
    "    df = df.drop(columns=['rolling_std'])\n",
    "    return df"
   ]
  },
  {
   "cell_type": "code",
   "execution_count": 65,
   "metadata": {},
   "outputs": [],
   "source": [
    "zlab = add_Bollinger_Band(zlab)\n"
   ]
  },
  {
   "cell_type": "code",
   "execution_count": 66,
   "metadata": {},
   "outputs": [
    {
     "data": {
      "text/html": [
       "<div>\n",
       "<style scoped>\n",
       "    .dataframe tbody tr th:only-of-type {\n",
       "        vertical-align: middle;\n",
       "    }\n",
       "\n",
       "    .dataframe tbody tr th {\n",
       "        vertical-align: top;\n",
       "    }\n",
       "\n",
       "    .dataframe thead th {\n",
       "        text-align: right;\n",
       "    }\n",
       "</style>\n",
       "<table border=\"1\" class=\"dataframe\">\n",
       "  <thead>\n",
       "    <tr style=\"text-align: right;\">\n",
       "      <th></th>\n",
       "      <th>Date</th>\n",
       "      <th>Open</th>\n",
       "      <th>High</th>\n",
       "      <th>Low</th>\n",
       "      <th>Close</th>\n",
       "      <th>Adj Close</th>\n",
       "      <th>Volume</th>\n",
       "      <th>rolling_mean</th>\n",
       "      <th>upper_band</th>\n",
       "      <th>lower_band</th>\n",
       "    </tr>\n",
       "  </thead>\n",
       "  <tbody>\n",
       "    <tr>\n",
       "      <th>629</th>\n",
       "      <td>2020-03-23</td>\n",
       "      <td>48.849998</td>\n",
       "      <td>49.160000</td>\n",
       "      <td>44.770000</td>\n",
       "      <td>48.470001</td>\n",
       "      <td>48.470001</td>\n",
       "      <td>346400</td>\n",
       "      <td>52.3895</td>\n",
       "      <td>60.5885</td>\n",
       "      <td>44.1905</td>\n",
       "    </tr>\n",
       "    <tr>\n",
       "      <th>630</th>\n",
       "      <td>2020-03-24</td>\n",
       "      <td>51.590000</td>\n",
       "      <td>52.000000</td>\n",
       "      <td>48.720001</td>\n",
       "      <td>51.029999</td>\n",
       "      <td>51.029999</td>\n",
       "      <td>230700</td>\n",
       "      <td>52.1750</td>\n",
       "      <td>60.2750</td>\n",
       "      <td>44.0750</td>\n",
       "    </tr>\n",
       "    <tr>\n",
       "      <th>631</th>\n",
       "      <td>2020-03-25</td>\n",
       "      <td>51.340000</td>\n",
       "      <td>53.360001</td>\n",
       "      <td>50.029999</td>\n",
       "      <td>51.450001</td>\n",
       "      <td>51.450001</td>\n",
       "      <td>420700</td>\n",
       "      <td>51.8565</td>\n",
       "      <td>59.5106</td>\n",
       "      <td>44.2024</td>\n",
       "    </tr>\n",
       "    <tr>\n",
       "      <th>632</th>\n",
       "      <td>2020-03-26</td>\n",
       "      <td>51.430000</td>\n",
       "      <td>52.790001</td>\n",
       "      <td>49.000000</td>\n",
       "      <td>52.590000</td>\n",
       "      <td>52.590000</td>\n",
       "      <td>431200</td>\n",
       "      <td>51.6865</td>\n",
       "      <td>59.1013</td>\n",
       "      <td>44.2717</td>\n",
       "    </tr>\n",
       "    <tr>\n",
       "      <th>633</th>\n",
       "      <td>2020-03-27</td>\n",
       "      <td>51.000000</td>\n",
       "      <td>51.705002</td>\n",
       "      <td>49.500000</td>\n",
       "      <td>50.959999</td>\n",
       "      <td>50.959999</td>\n",
       "      <td>415400</td>\n",
       "      <td>51.4860</td>\n",
       "      <td>58.7422</td>\n",
       "      <td>44.2298</td>\n",
       "    </tr>\n",
       "  </tbody>\n",
       "</table>\n",
       "</div>"
      ],
      "text/plain": [
       "          Date       Open       High        Low      Close  Adj Close  Volume  \\\n",
       "629 2020-03-23  48.849998  49.160000  44.770000  48.470001  48.470001  346400   \n",
       "630 2020-03-24  51.590000  52.000000  48.720001  51.029999  51.029999  230700   \n",
       "631 2020-03-25  51.340000  53.360001  50.029999  51.450001  51.450001  420700   \n",
       "632 2020-03-26  51.430000  52.790001  49.000000  52.590000  52.590000  431200   \n",
       "633 2020-03-27  51.000000  51.705002  49.500000  50.959999  50.959999  415400   \n",
       "\n",
       "     rolling_mean  upper_band  lower_band  \n",
       "629       52.3895     60.5885     44.1905  \n",
       "630       52.1750     60.2750     44.0750  \n",
       "631       51.8565     59.5106     44.2024  \n",
       "632       51.6865     59.1013     44.2717  \n",
       "633       51.4860     58.7422     44.2298  "
      ]
     },
     "execution_count": 66,
     "metadata": {},
     "output_type": "execute_result"
    }
   ],
   "source": [
    "zlab.tail()"
   ]
  },
  {
   "cell_type": "code",
   "execution_count": 70,
   "metadata": {},
   "outputs": [],
   "source": [
    "zlab_bb = zlab[['Date','rolling_mean']].dropna()\n",
    "zlab_bb = zlab_bb.reset_index(drop=True)"
   ]
  },
  {
   "cell_type": "code",
   "execution_count": 75,
   "metadata": {},
   "outputs": [],
   "source": [
    "zlab_bb.set_index('Date', inplace=True)"
   ]
  },
  {
   "cell_type": "code",
   "execution_count": 76,
   "metadata": {},
   "outputs": [
    {
     "data": {
      "text/plain": [
       "<matplotlib.axes._subplots.AxesSubplot at 0x7f8abdbfa4a8>"
      ]
     },
     "execution_count": 76,
     "metadata": {},
     "output_type": "execute_result"
    },
    {
     "data": {
      "image/png": "[encoded data removed]",
      "text/plain": [
       "<Figure size 432x288 with 1 Axes>"
      ]
     },
     "metadata": {
      "needs_background": "light"
     },
     "output_type": "display_data"
    }
   ],
   "source": [
    "zlab_bb.plot()"
   ]
  },
  {
   "cell_type": "code",
   "execution_count": 89,
   "metadata": {},
   "outputs": [],
   "source": [
    "def plot_bolling_band(df, symbol):\n",
    "    \"\"\"\n",
    "    Return plot of bolling_band \n",
    "    \"\"\"\n",
    "    df = df.drop(columns = [''])\n",
    "    df.set_index('Date', inplace=True)\n",
    "    ax = df.plot(title='{} Bollinger Band'.format(symbol), color = ['blue','green','gold','gold'])\n",
    "    \n",
    "    ax.set_ylabel('SMA and BB')\n",
    "    ax.grid()\n",
    "    plt.show()"
   ]
  },
  {
   "cell_type": "code",
   "execution_count": 90,
   "metadata": {},
   "outputs": [
    {
     "data": {
      "image/png": "[encoded data removed]",
      "text/plain": [
       "<Figure size 432x288 with 1 Axes>"
      ]
     },
     "metadata": {
      "needs_background": "light"
     },
     "output_type": "display_data"
    }
   ],
   "source": [
    "plot_bolling_band(zlab, symbol='ZLAB')"
   ]
  },
  {
   "cell_type": "code",
   "execution_count": 61,
   "metadata": {},
   "outputs": [
    {
     "data": {
      "text/plain": [
       "Date            datetime64[ns]\n",
       "rolling_mean           float64\n",
       "upper_band             float64\n",
       "lower_band             float64\n",
       "dtype: object"
      ]
     },
     "execution_count": 61,
     "metadata": {},
     "output_type": "execute_result"
    }
   ],
   "source": [
    "zlab_bb.dtypes\n"
   ]
  },
  {
   "cell_type": "code",
   "execution_count": 91,
   "metadata": {},
   "outputs": [
    {
     "ename": "ModuleNotFoundError",
     "evalue": "No module named 'matplotlib.finance'",
     "output_type": "error",
     "traceback": [
      "\u001b[0;31m---------------------------------------------------------------------------\u001b[0m",
      "\u001b[0;31mModuleNotFoundError\u001b[0m                       Traceback (most recent call last)",
      "\u001b[0;32m<ipython-input-91-7ea83a59eaf3>\u001b[0m in \u001b[0;36m<module>\u001b[0;34m\u001b[0m\n\u001b[0;32m----> 1\u001b[0;31m \u001b[0;32mfrom\u001b[0m \u001b[0mmatplotlib\u001b[0m\u001b[0;34m.\u001b[0m\u001b[0mfinance\u001b[0m \u001b[0;32mimport\u001b[0m \u001b[0mcandlestick_ohlc\u001b[0m\u001b[0;34m\u001b[0m\u001b[0;34m\u001b[0m\u001b[0m\n\u001b[0m",
      "\u001b[0;31mModuleNotFoundError\u001b[0m: No module named 'matplotlib.finance'"
     ]
    }
   ],
   "source": [
    "from matplotlib.finance import candlestick_ohlc"
   ]
  },
  {
   "cell_type": "code",
   "execution_count": 92,
   "metadata": {},
   "outputs": [],
   "source": [
    "import sys"
   ]
  },
  {
   "cell_type": "code",
   "execution_count": 94,
   "metadata": {},
   "outputs": [
    {
     "ename": "ModuleNotFoundError",
     "evalue": "No module named 'mplfinance'",
     "output_type": "error",
     "traceback": [
      "\u001b[0;31m---------------------------------------------------------------------------\u001b[0m",
      "\u001b[0;31mModuleNotFoundError\u001b[0m                       Traceback (most recent call last)",
      "\u001b[0;32m<ipython-input-94-a189843ff0fe>\u001b[0m in \u001b[0;36m<module>\u001b[0;34m\u001b[0m\n\u001b[0;32m----> 1\u001b[0;31m \u001b[0;32mimport\u001b[0m \u001b[0mmplfinance\u001b[0m \u001b[0;32mas\u001b[0m \u001b[0mmpf\u001b[0m\u001b[0;34m\u001b[0m\u001b[0;34m\u001b[0m\u001b[0m\n\u001b[0m",
      "\u001b[0;31mModuleNotFoundError\u001b[0m: No module named 'mplfinance'"
     ]
    }
   ],
   "source": []
  },
  {
   "cell_type": "code",
   "execution_count": null,
   "metadata": {},
   "outputs": [],
   "source": []
  }
 ],
 "metadata": {
  "kernelspec": {
   "display_name": "Python 3",
   "language": "python",
   "name": "python3"
  },
  "language_info": {
   "codemirror_mode": {
    "name": "ipython",
    "version": 3
   },
   "file_extension": ".py",
   "mimetype": "text/x-python",
   "name": "python",
   "nbconvert_exporter": "python",
   "pygments_lexer": "ipython3",
   "version": "3.7.3"
  }
 },
 "nbformat": 4,
 "nbformat_minor": 2
}
