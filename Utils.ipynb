{
 "cells": [
  {
   "cell_type": "code",
   "execution_count": 1,
   "metadata": {},
   "outputs": [],
   "source": [
    "# Reading Ftp file\n",
    "import shutil\n",
    "import urllib.request as request\n",
    "from contextlib import closing\n",
    "\n",
    "from datetime import date, datetime, timedelta\n",
    "import pandas as pd\n"
   ]
  },
  {
   "cell_type": "code",
   "execution_count": 2,
   "metadata": {},
   "outputs": [],
   "source": [
    "def update_tickers_list():\n",
    "    '''\n",
    "    Get the most up-to-date tickers list from the ftp, which updates every business day\n",
    "    '''\n",
    "    # Download the nasdaq tickers list\n",
    "    with closing(\n",
    "            request.urlopen(\n",
    "                'ftp://ftp.nasdaqtrader.com/SymbolDirectory/nasdaqtraded.txt')\n",
    "    ) as r:\n",
    "        with open('nasdaq_tickers.txt', 'wb') as f:\n",
    "            shutil.copyfileobj(r, f)\n",
    "\n",
    "    # Download the nyse and other tickers list\n",
    "    with closing(\n",
    "            request.urlopen(\n",
    "                'ftp://ftp.nasdaqtrader.com/SymbolDirectory/otherlisted.txt')\n",
    "    ) as r:\n",
    "        with open('other_tickers.txt', 'wb') as f:\n",
    "            shutil.copyfileobj(r, f)"
   ]
  },
  {
   "cell_type": "code",
   "execution_count": 8,
   "metadata": {},
   "outputs": [],
   "source": [
    "def get_nasdaq_tickers():\n",
    "    '''\n",
    "    Return: a pandas dataframe ticker list \n",
    "    '''\n",
    "    # read with pandas\n",
    "    nasdaq_tickers = pd.read_csv('nasdaq_tickers.txt', sep='|', header=0)\n",
    "\n",
    "    # remove the footage\n",
    "    nasdaq_tickers = nasdaq_tickers[:-1]\n",
    "    # Apply filters\n",
    "    nasdaq_tickers = nasdaq_tickers[\n",
    "        (nasdaq_tickers['Nasdaq Traded'] != 'N') & # This is the BRK.A. Don't have enough money to buy anyway...\n",
    "        (nasdaq_tickers['Test Issue'] != 'Y') & \n",
    "        (nasdaq_tickers['ETF'] != 'Y') &   # Not interested in ETF \n",
    "        (~nasdaq_tickers['Security Name'].str.contains('ETN')) & # Not Interested in ETN as well \n",
    "        (~nasdaq_tickers['Security Name'].str.contains('Preferred Share')) &\n",
    "        (~nasdaq_tickers['Security Name'].str.contains('Preferred Series')) &\n",
    "        (~nasdaq_tickers['Security Name'].str.contains('Warrants')) &\n",
    "        (~nasdaq_tickers['Symbol'].str.contains('\\.')) &\n",
    "        (~nasdaq_tickers['Symbol'].str.contains('\\$'))\n",
    "    ]\n",
    "\n",
    "    nasdaq_tickers = nasdaq_tickers.reset_index(drop=True)  # reset index\n",
    "    \n",
    "    \n",
    "    return nasdaq_tickers.iloc[:, 1:3]"
   ]
  },
  {
   "cell_type": "code",
   "execution_count": 4,
   "metadata": {},
   "outputs": [],
   "source": [
    "nasdaq = get_nasdaq_tickers()"
   ]
  },
  {
   "cell_type": "code",
   "execution_count": 5,
   "metadata": {},
   "outputs": [
    {
     "data": {
      "text/plain": [
       "5900"
      ]
     },
     "execution_count": 5,
     "metadata": {},
     "output_type": "execute_result"
    }
   ],
   "source": [
    "len(nasdaq.Symbol)"
   ]
  },
  {
   "cell_type": "code",
   "execution_count": 13,
   "metadata": {},
   "outputs": [],
   "source": [
    "def get_other_tickers():\n",
    "\n",
    "    # read with pandas\n",
    "    nyse_tickers = pd.read_csv('other_tickers.txt', sep='|', header=0)\n",
    "\n",
    "    # remove the footage\n",
    "    nyse_tickers = nyse_tickers[:-1]\n",
    "    # Apply filters\n",
    "    nyse_tickers = nyse_tickers[\n",
    "        (nyse_tickers['Test Issue'] != 'Y') & (nyse_tickers['ETF'] != 'Y')&  # Not interested in ETF \n",
    "        (~nyse_tickers['Security Name'].str.contains('ETN')) &  # Not Interested in ETN as well \n",
    "        (~nyse_tickers['Security Name'].str.contains('Preferred Share')) &\n",
    "        (~nyse_tickers['Security Name'].str.contains('Preferred Series')) &\n",
    "        (~nyse_tickers['Security Name'].str.contains('Warrants')) &\n",
    "        (~nyse_tickers['ACT Symbol'].str.contains('\\.')) &\n",
    "        (~nyse_tickers['ACT Symbol'].str.contains('\\$'))\n",
    "    ]\n",
    "\n",
    "    nyse_tickers = nyse_tickers.reset_index(drop=True)  # reset index\n",
    "    \n",
    "    # Rename \n",
    "    df = nyse_tickers.iloc[:, 0:2]\n",
    "    df.columns = ['Symbol', 'Security Name']\n",
    "\n",
    "    return df"
   ]
  },
  {
   "cell_type": "code",
   "execution_count": 14,
   "metadata": {},
   "outputs": [
    {
     "data": {
      "text/plain": [
       "2804"
      ]
     },
     "execution_count": 14,
     "metadata": {},
     "output_type": "execute_result"
    }
   ],
   "source": [
    "nyse = get_other_tickers()\n",
    "len(nyse)"
   ]
  },
  {
   "cell_type": "code",
   "execution_count": 16,
   "metadata": {},
   "outputs": [
    {
     "data": {
      "text/html": [
       "<div>\n",
       "<style scoped>\n",
       "    .dataframe tbody tr th:only-of-type {\n",
       "        vertical-align: middle;\n",
       "    }\n",
       "\n",
       "    .dataframe tbody tr th {\n",
       "        vertical-align: top;\n",
       "    }\n",
       "\n",
       "    .dataframe thead th {\n",
       "        text-align: right;\n",
       "    }\n",
       "</style>\n",
       "<table border=\"1\" class=\"dataframe\">\n",
       "  <thead>\n",
       "    <tr style=\"text-align: right;\">\n",
       "      <th></th>\n",
       "      <th>Symbol</th>\n",
       "      <th>Security Name</th>\n",
       "    </tr>\n",
       "  </thead>\n",
       "  <tbody>\n",
       "    <tr>\n",
       "      <th>0</th>\n",
       "      <td>A</td>\n",
       "      <td>Agilent Technologies, Inc. Common Stock</td>\n",
       "    </tr>\n",
       "    <tr>\n",
       "      <th>1</th>\n",
       "      <td>AA</td>\n",
       "      <td>Alcoa Corporation Common Stock</td>\n",
       "    </tr>\n",
       "    <tr>\n",
       "      <th>2</th>\n",
       "      <td>AAMC</td>\n",
       "      <td>Altisource Asset Management Corp Com</td>\n",
       "    </tr>\n",
       "    <tr>\n",
       "      <th>3</th>\n",
       "      <td>AAN</td>\n",
       "      <td>Aaron's, Inc. Common Stock</td>\n",
       "    </tr>\n",
       "    <tr>\n",
       "      <th>4</th>\n",
       "      <td>AAP</td>\n",
       "      <td>Advance Auto Parts Inc Advance Auto Parts Inc W/I</td>\n",
       "    </tr>\n",
       "  </tbody>\n",
       "</table>\n",
       "</div>"
      ],
      "text/plain": [
       "  Symbol                                      Security Name\n",
       "0      A            Agilent Technologies, Inc. Common Stock\n",
       "1     AA                    Alcoa Corporation Common Stock \n",
       "2   AAMC               Altisource Asset Management Corp Com\n",
       "3    AAN                         Aaron's, Inc. Common Stock\n",
       "4    AAP  Advance Auto Parts Inc Advance Auto Parts Inc W/I"
      ]
     },
     "execution_count": 16,
     "metadata": {},
     "output_type": "execute_result"
    }
   ],
   "source": [
    "nyse.head()"
   ]
  },
  {
   "cell_type": "code",
   "execution_count": null,
   "metadata": {},
   "outputs": [],
   "source": []
  }
 ],
 "metadata": {
  "kernelspec": {
   "display_name": "Python 3",
   "language": "python",
   "name": "python3"
  },
  "language_info": {
   "codemirror_mode": {
    "name": "ipython",
    "version": 3
   },
   "file_extension": ".py",
   "mimetype": "text/x-python",
   "name": "python",
   "nbconvert_exporter": "python",
   "pygments_lexer": "ipython3",
   "version": "3.7.3"
  }
 },
 "nbformat": 4,
 "nbformat_minor": 2
}
